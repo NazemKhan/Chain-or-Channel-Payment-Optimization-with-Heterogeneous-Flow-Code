{
 "cells": [
  {
   "cell_type": "markdown",
   "id": "e3d261dd-7957-43e1-a0d3-868b48b609fb",
   "metadata": {},
   "source": [
    "# Figure 7"
   ]
  },
  {
   "cell_type": "markdown",
   "id": "cf184f56-69cd-477c-9af1-9b138959cfde",
   "metadata": {},
   "source": [
    "Consider the family of symmetric payment streams $\\{ (\\tau_n^\\lambda, \\Delta_n^\\lambda)_{n \\geq 1} \\}_{\\lambda > 0}$ described in Section 5.2.1."
   ]
  },
  {
   "cell_type": "markdown",
   "id": "8d8e0c97-0afb-4f85-b333-785bd716080e",
   "metadata": {},
   "source": [
    "## Fixed $\\lambda$\n",
    "\n",
    "The code for computing the minimal cost, optimal deposit and reset threshold for $\\lambda = 1$ is given below:"
   ]
  },
  {
   "cell_type": "code",
   "execution_count": 91,
   "id": "d03a0970-7e5e-4cb4-abb0-3c473d3f0e81",
   "metadata": {},
   "outputs": [],
   "source": [
    "import numpy as np\n",
    "from scipy.optimize import root\n",
    "from dataclasses import dataclass\n",
    "import matplotlib.pyplot as plt\n",
    "import import_ipynb\n",
    "import GeneralMethod  # Call functions from GeneralMethod without duplicating code"
   ]
  },
  {
   "cell_type": "code",
   "execution_count": 93,
   "id": "f06375b3-c9fc-47d8-b06d-73b5a3722dcb",
   "metadata": {},
   "outputs": [],
   "source": [
    "lam = 1\n",
    "\n",
    "# Cumulative probability between two points when payments are symmetric exponential (Laplace) with mean absolute value 1/lam\n",
    "def I(x, y):\n",
    "    if x >= 0:\n",
    "        return -1 / 2 * (np.exp(-lam * y) - np.exp(-lam * x))\n",
    "    elif y <= 0:\n",
    "        return 1 / 2 * (np.exp(lam * y)-np.exp(lam * x))\n",
    "    else:\n",
    "        return 1 / 2 * (1 - np.exp(lam * x)) - 1 / 2 * (np.exp(-lam * y) - 1)"
   ]
  },
  {
   "cell_type": "code",
   "execution_count": 95,
   "id": "8425b5bc-a07c-415b-8a18-14cb1e335306",
   "metadata": {},
   "outputs": [
    {
     "name": "stdout",
     "output_type": "stream",
     "text": [
      "Optimal cost starting at zero with l_A=100 and l_B=100: 44.3315975099876\n"
     ]
    }
   ],
   "source": [
    "params = GeneralMethod.PaymentParams(\n",
    "    l_A = 100, \n",
    "    l_B = 100, \n",
    "    C = 1.0, \n",
    "    D = 2.0, \n",
    "    alpha = (2080 * lam ** 2) / (2080 * lam ** 2 + 0.02), \n",
    "    n = 2, \n",
    "    I = I  # The function I defined above\n",
    ")\n",
    "\n",
    "# Find the optimal cost vector\n",
    "optimal_cost_vector = GeneralMethod.T_n(params)\n",
    "print(\"Optimal cost starting at zero with l_A=100 and l_B=100:\", optimal_cost_vector[int(2 * params.n * params.l_A)])"
   ]
  },
  {
   "cell_type": "code",
   "execution_count": 17,
   "id": "c17ed8ee-2476-4ca5-a6b8-8dee54c09c68",
   "metadata": {},
   "outputs": [
    {
     "name": "stdout",
     "output_type": "stream",
     "text": [
      "Starting coarse search with step size: 10, l_max: 250\n",
      "l_A = 0.0, l_B = 0.0, V_n = 104000.00000139388\n",
      "l_A = 10.0, l_B = 10.0, V_n = 4034.1676909088933\n",
      "l_A = 20.0, l_B = 20.0, V_n = 1203.7770717475464\n",
      "l_A = 30.0, l_B = 30.0, V_n = 579.5381837961062\n",
      "l_A = 40.0, l_B = 40.0, V_n = 369.69018865621047\n",
      "l_A = 50.0, l_B = 50.0, V_n = 283.70167491529605\n",
      "l_A = 60.0, l_B = 60.0, V_n = 246.4498187289858\n",
      "l_A = 70.0, l_B = 70.0, V_n = 232.15492901732063\n",
      "l_A = 80.0, l_B = 80.0, V_n = 230.102325953578\n",
      "l_A = 90.0, l_B = 90.0, V_n = 235.05071943859284\n",
      "l_A = 100.0, l_B = 100.0, V_n = 244.3315975099876\n",
      "l_A = 110.0, l_B = 110.0, V_n = 256.44129528229024\n",
      "l_A = 120.0, l_B = 120.0, V_n = 270.4710170409603\n",
      "l_A = 130.0, l_B = 130.0, V_n = 285.8448581034253\n",
      "Coarse search result: l_A = 80.0, l_B = 80.0, V = 230.102325953578\n",
      "Starting fine search with step size: 1 around the coarse minimum\n",
      "l_A = 70.0, l_B = 70.0, V_n = 232.15492901732063\n",
      "l_A = 71.0, l_B = 71.0, V_n = 231.5141067017257\n",
      "l_A = 72.0, l_B = 72.0, V_n = 230.9847819336149\n",
      "l_A = 73.0, l_B = 73.0, V_n = 230.56076552646005\n",
      "l_A = 74.0, l_B = 74.0, V_n = 230.23629184847402\n",
      "l_A = 75.0, l_B = 75.0, V_n = 230.00598450621095\n",
      "l_A = 76.0, l_B = 76.0, V_n = 229.86482523584783\n",
      "l_A = 77.0, l_B = 77.0, V_n = 229.80812565364937\n",
      "l_A = 78.0, l_B = 78.0, V_n = 229.83150157189357\n",
      "l_A = 79.0, l_B = 79.0, V_n = 229.93084962056793\n",
      "l_A = 80.0, l_B = 80.0, V_n = 230.102325953578\n",
      "l_A = 81.0, l_B = 81.0, V_n = 230.34232670916327\n",
      "l_A = 82.0, l_B = 82.0, V_n = 230.64316055280824\n",
      "l_A = 83.0, l_B = 83.0, V_n = 231.00471034741742\n",
      "l_A = 84.0, l_B = 84.0, V_n = 231.4256488685527\n",
      "l_A = 85.0, l_B = 85.0, V_n = 231.9031403672799\n",
      "l_A = 86.0, l_B = 86.0, V_n = 232.4345163355521\n",
      "l_A = 87.0, l_B = 87.0, V_n = 233.0172638367613\n",
      "l_A = 88.0, l_B = 88.0, V_n = 233.64901472108681\n",
      "l_A = 89.0, l_B = 89.0, V_n = 234.3275357425719\n",
      "l_A = 90.0, l_B = 90.0, V_n = 235.05071943859284\n"
     ]
    },
    {
     "data": {
      "text/plain": [
       "(77.0, 77.0, 229.80812565364937)"
      ]
     },
     "execution_count": 17,
     "metadata": {},
     "output_type": "execute_result"
    }
   ],
   "source": [
    "# 100 + 100 + 44.3315975099876 < 250\n",
    "GeneralMethod.multi_level_search(params, 10, 250, 1, 10, unidirectional=False, symmetric=True, method='hybr')"
   ]
  },
  {
   "cell_type": "markdown",
   "id": "ad9ba1e9-8d01-468a-af6a-e7d8886e20cc",
   "metadata": {},
   "source": [
    "Therefore, the optimal channel deposits $l_A^* = l_B^* = 77$ and the minimal cost is $230$. The reset threshold(s) on both sides of the channel are $74.5$, as computed below."
   ]
  },
  {
   "cell_type": "code",
   "execution_count": 21,
   "id": "b573033b-ec4f-4797-8522-b9e3ce8e05eb",
   "metadata": {},
   "outputs": [
    {
     "name": "stdout",
     "output_type": "stream",
     "text": [
      "Bob's reset threshold: 74.5\n",
      "Alice's reset threshold: -74.5\n"
     ]
    }
   ],
   "source": [
    "params.l_A=77 # optimal l_A\n",
    "params.l_B=77 # optimal l_B\n",
    "\n",
    "optimal_cost_vector = GeneralMethod.T_n(params, method='hybr')\n",
    "\n",
    "print(\"Bob's reset threshold:\", params.l_B - GeneralMethod.calculate_threshold_indices(optimal_cost_vector, params.C, params.D, params.l_A, params.l_B, params.n)[0] / (2 * params.n))\n",
    "print(\"Alice's reset threshold:\", params.l_B - GeneralMethod.calculate_threshold_indices(optimal_cost_vector, params.C, params.D, params.l_A, params.l_B, params.n)[3] / (2 * params.n))"
   ]
  },
  {
   "cell_type": "markdown",
   "id": "58110ef7-8750-4e32-a74e-5829701b3b7f",
   "metadata": {},
   "source": [
    "## Varying $\\lambda$\n",
    "\n",
    "Varying the mean payment amount $\\tfrac{1}{\\lambda}$ and repeating the above analysis yields the following table:"
   ]
  },
  {
   "cell_type": "markdown",
   "id": "4d2f7a2f-f600-4679-b8cd-ab03a1ee9bd3",
   "metadata": {},
   "source": [
    "|       $\\tfrac{1}{\\lambda}$       |   Minimal cost   |  Optimal deposit  |  Reset threshold  |\n",
    "|:--------------------------------:|:----------------:|:-----------------:|:------------------:|\n",
    "|               1                  |       230        |         77        |        74.5       |\n",
    "|               2.5                |       232        |         78        |        73.5       |\n",
    "|               5                  |       230        |         74        |        69         |\n",
    "|               7.5                |       219        |         65        |        62         |\n",
    "|              10                  |       200        |         52        |        52         |\n",
    "|              15                  |       165        |         41        |        --         |\n",
    "|              20                  |       141        |         33        |        --         |\n",
    "|              30                  |       103        |         15        |        --         |\n",
    "|              35                  |        83        |          5        |        --         |\n"
   ]
  },
  {
   "cell_type": "markdown",
   "id": "fce05d5e-6dd3-48d4-8b17-4b924a376843",
   "metadata": {},
   "source": [
    "Spline interpolation allows us to fit a smooth curve through these points, which can then be used to estimate the minimal cost, optimal deposit(s) and reset threshold(s) at intermediate values."
   ]
  },
  {
   "cell_type": "code",
   "execution_count": 79,
   "id": "e0a4df82-0c68-4755-a883-c0a418b365a8",
   "metadata": {},
   "outputs": [
    {
     "data": {
      "image/png": "[encoded data removed]",
      "text/plain": [
       "<Figure size 640x480 with 1 Axes>"
      ]
     },
     "metadata": {},
     "output_type": "display_data"
    }
   ],
   "source": [
    "from scipy.interpolate import make_interp_spline\n",
    "\n",
    "x_rt_values=np.array([0, 2.5, 5, 7.5, 10])\n",
    "reset_thresholds=np.array([74.65, 73.5, 69, 62, 52])\n",
    "X_RT_Spline = make_interp_spline(x_rt_values, reset_thresholds)\n",
    "X_RT_ = np.linspace(x_rt_values.min(), x_rt_values.max(), 10000)\n",
    "RT_ = X_RT_Spline(X_RT_)\n",
    "\n",
    "x_oc_values=np.array([0, 2.5, 5, 7.5, 10, 15, 20, 30, 35])\n",
    "optimal_cost=np.array([223.6, 232, 230, 219, 200, 165, 141, 103, 83])\n",
    "X_OC_Spline = make_interp_spline(x_oc_values, optimal_cost)\n",
    "X_OC_ = np.linspace(x_oc_values.min(), x_oc_values.max(), 10000)\n",
    "OC_ = X_OC_Spline(X_OC_)\n",
    "\n",
    "x_oa_values=np.array([0, 2.5, 5, 7.5, 10, 15, 20, 30, 35])\n",
    "optimal_allocations=np.array([74.75, 78, 74, 65, 52, 41, 33, 15, 5])\n",
    "X_OA_Spline = make_interp_spline(x_oa_values, optimal_allocations)\n",
    "X_OA_ = np.linspace(x_oa_values.min(), x_oa_values.max(), 10000)\n",
    "OA_ = X_OA_Spline(X_OA_)\n",
    "\n",
    "plt.plot(X_OC_, OC_, color='black', label='Optimal cost')\n",
    "plt.plot(X_RT_, RT_, color='red', label='Reset threshold')\n",
    "plt.plot(X_OA_, OA_, color='green', label='Optimal allocation')\n",
    "x = np.linspace(0.01, 35, 3500)\n",
    "plt.plot(x, 2080/(0.02 * (x**2)), color='black', linestyle='dotted')\n",
    "plt.plot(x, [74.65]*3500, color='green', linestyle='dashed')\n",
    "plt.plot(x, [223.6]*3500, color='black', linestyle='dashed')\n",
    "plt.ylim(0, 275)\n",
    "plt.xlabel(\"Bob's mean payment\")\n",
    "plt.show()"
   ]
  },
  {
   "cell_type": "code",
   "execution_count": null,
   "id": "9c3f8ee7-b3fb-44d1-81b2-8f1756511c35",
   "metadata": {},
   "outputs": [],
   "source": []
  }
 ],
 "metadata": {
  "kernelspec": {
   "display_name": "Python 3 (ipykernel)",
   "language": "python",
   "name": "python3"
  },
  "language_info": {
   "codemirror_mode": {
    "name": "ipython",
    "version": 3
   },
   "file_extension": ".py",
   "mimetype": "text/x-python",
   "name": "python",
   "nbconvert_exporter": "python",
   "pygments_lexer": "ipython3",
   "version": "3.12.4"
  }
 },
 "nbformat": 4,
 "nbformat_minor": 5
}

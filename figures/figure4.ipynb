{
 "cells": [
  {
   "cell_type": "markdown",
   "id": "fdc21619-13a0-412c-9378-242de5bb7e3c",
   "metadata": {},
   "source": [
    "# Figure 4\n",
    "\n",
    "Consider the family of unidirectional payment streams $\\{ (\\tau_n^\\lambda, \\Delta_n^\\lambda)_{n \\geq 1} \\}_{\\lambda > 0}$ described in Section 5.1.1."
   ]
  },
  {
   "cell_type": "markdown",
   "id": "e2ab4ca8-d25d-436c-af77-c0dc8216e154",
   "metadata": {},
   "source": [
    "## Fixed $\\lambda$\n",
    "\n",
    "The code for computing the minimal cost, optimal deposit and reset threshold for $\\lambda = \\tfrac{1}{20}$ is given below:"
   ]
  },
  {
   "cell_type": "code",
   "execution_count": 1,
   "id": "b17de39b-4fdb-4aa2-a354-bdb9113f3a29",
   "metadata": {},
   "outputs": [],
   "source": [
    "import numpy as np\n",
    "from scipy.optimize import root\n",
    "from dataclasses import dataclass\n",
    "import matplotlib.pyplot as plt\n",
    "import import_ipynb\n",
    "import GeneralMethod  # Call functions from GeneralMethod without duplicating code"
   ]
  },
  {
   "cell_type": "code",
   "execution_count": 3,
   "id": "eaee976d-8201-44a7-9e0c-2d2a9f7e6750",
   "metadata": {},
   "outputs": [],
   "source": [
    "lam = 1/20\n",
    "\n",
    "# Cumulative probability between two points when payments are exponential with mean 1/lam\n",
    "def I(x,y):\n",
    "    if x >= 0:\n",
    "        return np.exp(-lam * x) - np.exp(-lam * y)\n",
    "    elif y <= 0:\n",
    "        return 0\n",
    "    else:\n",
    "        return 1 - np.exp(-lam * y)"
   ]
  },
  {
   "cell_type": "code",
   "execution_count": 5,
   "id": "4ea7ff5d-74e1-415a-a5ce-0f273db2ed22",
   "metadata": {},
   "outputs": [
    {
     "name": "stdout",
     "output_type": "stream",
     "text": [
      "Optimal cost starting at zero with l_A=0 and l_B=300: 390.3998250876541\n"
     ]
    }
   ],
   "source": [
    "params = GeneralMethod.PaymentParams(\n",
    "    l_A = 0, \n",
    "    l_B = 300, \n",
    "    C = 1.0, \n",
    "    D = 2.0, \n",
    "    alpha = (1040 * lam) / (1040 * lam + 0.02),\n",
    "    n = 1,\n",
    "    I = I \n",
    ")\n",
    "\n",
    "# Find the optimal cost vector\n",
    "optimal_cost_vector = GeneralMethod.T_n(params, method='hybr')\n",
    "print(\"Optimal cost starting at zero with l_A=0 and l_B=300:\", optimal_cost_vector[0])"
   ]
  },
  {
   "cell_type": "code",
   "execution_count": 9,
   "id": "bdf90336-bb99-4739-9f47-85a82cc0f4f4",
   "metadata": {},
   "outputs": [
    {
     "name": "stdout",
     "output_type": "stream",
     "text": [
      "Starting coarse search with step size: 50, l_max: 700\n",
      "l_A = 0, l_B = 0, V_n = 2599.999999999345\n",
      "l_A = 0, l_B = 50, V_n = 1640.746146723797\n",
      "l_A = 0, l_B = 100, V_n = 1164.8563006290724\n",
      "l_A = 0, l_B = 150, V_n = 917.817630973144\n",
      "l_A = 0, l_B = 200, V_n = 787.5685200268439\n",
      "l_A = 0, l_B = 250, V_n = 720.7032301122675\n",
      "l_A = 0, l_B = 300, V_n = 690.3998250876541\n",
      "l_A = 0, l_B = 350, V_n = 682.4831079282875\n",
      "l_A = 0, l_B = 400, V_n = 688.9928296421737\n",
      "l_A = 0, l_B = 450, V_n = 705.2629510847603\n",
      "l_A = 0, l_B = 500, V_n = 728.3949359015439\n",
      "l_A = 0, l_B = 550, V_n = 756.5199924797607\n",
      "l_A = 0, l_B = 600, V_n = 788.3822690317882\n",
      "l_A = 0, l_B = 650, V_n = 823.1109087917318\n",
      "l_A = 0, l_B = 700, V_n = 860.0799268249107\n",
      "Coarse search result: l_A = 0, l_B = 350, V = 682.4831079282875\n",
      "Starting fine search with step size: 5 around the coarse minimum\n",
      "l_A = 0, l_B = 330, V_n = 683.5650156262159\n",
      "l_A = 0, l_B = 335, V_n = 683.061461558533\n",
      "l_A = 0, l_B = 340, V_n = 682.7106002478249\n",
      "l_A = 0, l_B = 345, V_n = 682.5204600848914\n",
      "l_A = 0, l_B = 350, V_n = 682.4831079282875\n",
      "l_A = 0, l_B = 355, V_n = 682.5747950503369\n",
      "l_A = 0, l_B = 360, V_n = 682.8082749158797\n",
      "l_A = 0, l_B = 365, V_n = 683.1775537640094\n",
      "l_A = 0, l_B = 370, V_n = 683.6670387782492\n"
     ]
    },
    {
     "data": {
      "text/plain": [
       "(0, 350, 682.4831079282875)"
      ]
     },
     "execution_count": 9,
     "metadata": {},
     "output_type": "execute_result"
    }
   ],
   "source": [
    "# 0 + 300 + 390.3998250876541 < 700\n",
    "GeneralMethod.multi_level_search(params, 50, 700, 5, 20, unidirectional=True, symmetric=False, method='hybr')"
   ]
  },
  {
   "cell_type": "markdown",
   "id": "a4953ffa-b49b-42c3-9de9-ebc6f0cd6109",
   "metadata": {},
   "source": [
    "Therefore, the optimal channel deposits are $l_A^* = 0$ and $l_B^* = 350$. The minimal cost is $687$. And the reset threshold is $309$, as computed below."
   ]
  },
  {
   "cell_type": "code",
   "execution_count": 15,
   "id": "e686dcc7-f173-4c49-8e01-d37e11007050",
   "metadata": {},
   "outputs": [
    {
     "name": "stdout",
     "output_type": "stream",
     "text": [
      "Reset threshold: 309.0\n"
     ]
    }
   ],
   "source": [
    "params.l_A=0 # optimal l_A\n",
    "params.l_B=350 # optimal l_B\n",
    "\n",
    "optimal_cost_vector = GeneralMethod.T_n(params, method='hybr')\n",
    "\n",
    "print(\"Reset threshold:\", params.l_B - GeneralMethod.calculate_threshold_indices(optimal_cost_vector, params.C, params.D, params.l_A, params.l_B, params.n)[0] / (2 * params.n))"
   ]
  },
  {
   "cell_type": "markdown",
   "id": "a22ac166-624c-4bea-95ba-98338329520e",
   "metadata": {},
   "source": [
    "## Varying $\\lambda$\n",
    "\n",
    "Varying the mean payment amount $\\tfrac{1}{\\lambda}$ and repeating the above analysis yields the following table:"
   ]
  },
  {
   "cell_type": "markdown",
   "id": "cfdb36f7-9ddf-47fb-a297-a3b1998a0ec9",
   "metadata": {},
   "source": [
    "|      $\\tfrac{1}{\\lambda}$       |   Minimal cost   |  Optimal deposit  |  Reset threshold  |\n",
    "|:--------------------------------:|:----------------:|:-----------------:|:------------------:|\n",
    "|               1                  |       650        |        323        |        322        |\n",
    "|              10                  |       670        |        340        |        317        |\n",
    "|              20                  |       682        |        350        |        310        |\n",
    "|              30                  |       684        |        348        |        299        |\n",
    "|              40                  |       680        |        330        |        279        |\n",
    "|              50                  |       668        |        297        |        248        |\n",
    "|              60                  |       649        |        250        |        208        |\n",
    "|              70                  |       625        |        195        |        163        |\n",
    "|              80                  |       594        |        140        |        117        |\n",
    "|              90                  |       558        |         87        |         74        |\n",
    "|             100                  |       515        |         40        |         38        |\n",
    "\n"
   ]
  },
  {
   "cell_type": "markdown",
   "id": "964a3121-3ecf-4f6e-8a74-1e0d740be2f0",
   "metadata": {},
   "source": [
    "Spline interpolation allows us to fit a smooth curve through these points, which can then be used to estimate the minimal cost, optimal deposit and reset threshold at intermediate values."
   ]
  },
  {
   "cell_type": "code",
   "execution_count": 88,
   "id": "b5f84a2d-5aba-42b7-a0f6-72b6ccd3c5f3",
   "metadata": {},
   "outputs": [
    {
     "data": {
      "image/png": "[encoded data removed]",
      "text/plain": [
       "<Figure size 640x480 with 1 Axes>"
      ]
     },
     "metadata": {},
     "output_type": "display_data"
    }
   ],
   "source": [
    "from scipy.interpolate import make_interp_spline\n",
    "\n",
    "x_values=np.array([1, 10, 20, 30, 40, 50, 60, 70, 80, 90, 100])\n",
    "\n",
    "optimal_cost=np.array([650, 670, 682, 684, 680, 668, 649, 625, 594, 558, 515])\n",
    "optimal_allocations=np.array([323, 340, 350, 348, 330, 297, 250, 195, 140, 87, 40])\n",
    "reset_thresholds=np.array([322, 317, 310, 299, 279, 248, 208, 163, 117, 74, 38])\n",
    "\n",
    "X_OC_Spline = make_interp_spline(x_values, optimal_cost)\n",
    "X_OA_Spline = make_interp_spline(x_values, optimal_allocations)\n",
    "X_RT_Spline = make_interp_spline(x_values, reset_thresholds)\n",
    "X_ = np.linspace(x_values.min(), x_values.max(), 10000)\n",
    "OC_ = X_OC_Spline(X_)\n",
    "OA_ = X_OA_Spline(X_)\n",
    "RT_ = X_RT_Spline(X_)\n",
    "plt.plot(X_, OC_, color='black', label='Optimal cost') \n",
    "plt.plot(X_, RT_, color='red', label='Reset threshold')\n",
    "plt.plot(X_, OA_, color='green', label='Optimal allocation')\n",
    "x = np.linspace(0.01, 100, 10000)\n",
    "plt.plot(x, 1040/(0.02 * x), color='black', linestyle='dotted') # cost paying on-chain\n",
    "plt.plot(x, [322.5]*10000, color='green', linestyle='dashed') # Micropayment limit deposit\n",
    "plt.plot(x, [644]*10000, color='black', linestyle='dashed') # Micropayment limit cost\n",
    "plt.ylim(0, 800)\n",
    "plt.xlabel('Mean payment amount')\n",
    "plt.show()"
   ]
  }
 ],
 "metadata": {
  "kernelspec": {
   "display_name": "Python 3 (ipykernel)",
   "language": "python",
   "name": "python3"
  },
  "language_info": {
   "codemirror_mode": {
    "name": "ipython",
    "version": 3
   },
   "file_extension": ".py",
   "mimetype": "text/x-python",
   "name": "python",
   "nbconvert_exporter": "python",
   "pygments_lexer": "ipython3",
   "version": "3.12.4"
  }
 },
 "nbformat": 4,
 "nbformat_minor": 5
}

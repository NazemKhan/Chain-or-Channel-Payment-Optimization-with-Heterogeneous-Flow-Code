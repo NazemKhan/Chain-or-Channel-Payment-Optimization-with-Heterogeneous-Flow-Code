{
 "cells": [
  {
   "cell_type": "markdown",
   "id": "baf15d7d-4211-4cab-8106-8229c1d68eb4",
   "metadata": {},
   "source": [
    "# Example A.2\n",
    "\n",
    "The code below finds the optimal transactions' cost for any pair of channel deposits $l_A$ and $l_B$ when: $C=1$, $D=2$, $\\alpha = 0.999$ and payments satisfy $\\mathbb{P}[\\Delta = 1] = \\mathbb{P}[\\Delta = -1] = \\tfrac{1}{2}$. "
   ]
  },
  {
   "cell_type": "code",
   "execution_count": 113,
   "id": "669aa6f8-5cc1-4586-a1f0-468a9d431cfc",
   "metadata": {},
   "outputs": [],
   "source": [
    "import numpy as np\n",
    "from scipy.optimize import root\n",
    "\n",
    "C = 1\n",
    "D = 2\n",
    "alpha = 0.999\n",
    "\n",
    "# By Theorem 3.2 and Remark 3.3 we need to find the fixed point of the following function\n",
    "def F(v, l_A, l_B):\n",
    "    N = l_A + l_B \n",
    "    base_index = l_A\n",
    "    \n",
    "    Fv = np.zeros(N + 1)\n",
    "\n",
    "    # Compute the vector F(v)\n",
    "    Fv[0] = alpha * (0.5 * min(C + v[0], C + D + v[base_index]) + 0.5 * min(C + v[0], D + v[base_index], v[1]))\n",
    "    \n",
    "    for i in range(1, N):\n",
    "        Fv[i] = alpha * (0.5 * min(C + v[i], D + v[base_index], v[i - 1]) + 0.5 * min(C + v[i], D + v[base_index], v[i + 1]))\n",
    "    \n",
    "    Fv[N] = alpha * (0.5 * min(C + v[0], C + D + v[base_index]) + 0.5 * min(C + v[0], D + v[base_index], v[N - 1]))\n",
    "    \n",
    "    return Fv\n",
    "\n",
    "# The unique fixed point of F is the unique root of the function G(v)=F(v)-v\n",
    "def G(v, l_A, l_B):\n",
    "    Fv = F(v, l_A, l_B)\n",
    "    Gv = Fv - v\n",
    "    return Gv\n",
    "\n",
    "\n",
    "# This finds the unique root of the function G, and hence the unique fixed point of F\n",
    "def T(l_A, l_B, method='hybr'):\n",
    "    \n",
    "    # Set up the initial guess vector U-shaped\n",
    "    N = l_A + l_B + 1\n",
    "    base_index = l_A\n",
    "    initial_guess_vector = np.concatenate((base_index - np.arange(base_index), np.arange(N - base_index))) \n",
    "    \n",
    "    # Use the root function from scipy.optimize with flexibility in the method \n",
    "    Fixed_Point = root(G, initial_guess_vector, args=(l_A, l_B), method=method)\n",
    "        \n",
    "    return Fixed_Point.x[base_index]"
   ]
  },
  {
   "cell_type": "markdown",
   "id": "f519564a-4970-4986-88fa-06044752b7be",
   "metadata": {},
   "source": [
    "In order to find the optimal deposits, we need to minimize the following function over $l_A, l_B \\in \\mathbb{N}$. This is because payments are of magnitude $1$."
   ]
  },
  {
   "cell_type": "code",
   "execution_count": 115,
   "id": "a07521b5-3ce7-4783-b9d2-3eba3d2fd77c",
   "metadata": {},
   "outputs": [
    {
     "data": {
      "text/plain": [
       "39.653309465173876"
      ]
     },
     "execution_count": 115,
     "metadata": {},
     "output_type": "execute_result"
    }
   ],
   "source": [
    "# This is the value function \n",
    "def V(l_A, l_B):\n",
    "    return l_A + l_B + T(l_A, l_B)\n",
    "\n",
    "V(10,10)"
   ]
  },
  {
   "cell_type": "markdown",
   "id": "ea4eac3f-f0ef-49d0-8515-92eb11a36ceb",
   "metadata": {},
   "source": [
    "When $l_A = l_B = 10$, the value function is 39.653309465173876 < 40. Therefore, it is enough to run through the values $l_A, l_B \\in \\mathbb{N}$ such that $l_A + l_B \\leq 40$. The following code does this and returns the optimal deposits."
   ]
  },
  {
   "cell_type": "code",
   "execution_count": 117,
   "id": "5a7fad12-ee3d-467b-a268-beb1c4422066",
   "metadata": {},
   "outputs": [
    {
     "data": {
      "text/plain": [
       "(12, 13)"
      ]
     },
     "execution_count": 117,
     "metadata": {},
     "output_type": "execute_result"
    }
   ],
   "source": [
    "min_value = float('inf')\n",
    "min_l_A = None\n",
    "min_l_B = None\n",
    "\n",
    "for l_A in range(1, 41):\n",
    "    for l_B in range(1, 41 - l_A):\n",
    "        if l_A + l_B <= 40:\n",
    "            result = V(l_A, l_B)\n",
    "            if result < min_value:\n",
    "                min_value = result\n",
    "                min_l_A = l_A\n",
    "                min_l_B = l_B\n",
    "\n",
    "min_l_A, min_l_B"
   ]
  },
  {
   "cell_type": "markdown",
   "id": "f435a986-44b4-4637-b4d0-2e337bd520b5",
   "metadata": {},
   "source": [
    "Therefore, $l_A^* = 12$ and $l_B^* = 13$ are the optimal channel deposits. In particular, these deposits result in a smaller cost than $l_A = l_B = 12$ or $l_A = l_B = 13$."
   ]
  },
  {
   "cell_type": "code",
   "execution_count": 119,
   "id": "ba64bfc1-f86f-42f0-ad29-70f9e2b63c13",
   "metadata": {},
   "outputs": [
    {
     "data": {
      "text/plain": [
       "(37.483728714451246, 37.548730853756666, 37.496687296815466)"
      ]
     },
     "execution_count": 119,
     "metadata": {},
     "output_type": "execute_result"
    }
   ],
   "source": [
    "V(12, 13), V(12, 12), V(13, 13)"
   ]
  }
 ],
 "metadata": {
  "kernelspec": {
   "display_name": "Python 3 (ipykernel)",
   "language": "python",
   "name": "python3"
  },
  "language_info": {
   "codemirror_mode": {
    "name": "ipython",
    "version": 3
   },
   "file_extension": ".py",
   "mimetype": "text/x-python",
   "name": "python",
   "nbconvert_exporter": "python",
   "pygments_lexer": "ipython3",
   "version": "3.12.4"
  }
 },
 "nbformat": 4,
 "nbformat_minor": 5
}

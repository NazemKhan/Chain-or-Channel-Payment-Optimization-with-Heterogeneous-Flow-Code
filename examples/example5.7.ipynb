{
 "cells": [
  {
   "cell_type": "markdown",
   "id": "640c0fd7-545d-44b5-8f29-863ece7c6e53",
   "metadata": {},
   "source": [
    "# Example 5.7\n",
    "\n",
    "Assume $C = 1.9$, $D = 2$, $\\alpha = 0.9$ and payments $\\Delta$ have the discrete distribution\n",
    "\n",
    "\\begin{equation}\n",
    "\\Delta = \\begin{cases}\n",
    "\\pm \\tfrac{x}{2}, & \\text{with probability } \\tfrac{1}{4} - \\tfrac{p}{2}, \\\\\n",
    "\\pm x, & \\text{with probability } p, \\\\\n",
    "\\pm \\tfrac{3x}{2}, & \\text{with probability } \\tfrac{1}{4} - \\tfrac{p}{2},\n",
    "\\end{cases}\n",
    "\\end{equation}\n",
    "\n",
    "where $x = 3.2$ and $p = 0.49$."
   ]
  },
  {
   "cell_type": "code",
   "execution_count": 138,
   "id": "40a8ccda-4728-45b4-9221-75497dee6085",
   "metadata": {},
   "outputs": [],
   "source": [
    "import numpy as np\n",
    "import matplotlib.pyplot as plt\n",
    "from scipy.optimize import root\n",
    "\n",
    "# Fix values \n",
    "C = 1.9\n",
    "D = 2\n",
    "alpha = 0.9\n",
    "p = 0.49\n",
    "x = 3.2"
   ]
  },
  {
   "cell_type": "markdown",
   "id": "b34897e9-f597-4d8a-b74a-14f2118fff0c",
   "metadata": {},
   "source": [
    "The optimal channel deposits will be of the form $l_A = n\\tfrac{x}{2}$ and $l_B = m\\tfrac{x}{2}$ where $n, m \\in \\mathbb{N}$ by the discrete nature of the payments.\n",
    "\n",
    "Let $P$ be the vector of payment probabilites, that is\n",
    "\n",
    "\\begin{equation}\n",
    "P[i] := \\mathbb{P}[\\Delta = \\tfrac{-3x}{2} + i \\tfrac{x}{2}], \\quad i \\in \\{0, 1, \\ldots, 7 \\}.\n",
    "\\end{equation}\n",
    "\n",
    "Let $h$ be the vector of \"huge\" jump probabilities. This depends on the size of the channel. Given $n$ and $m$, \n",
    "\n",
    "\\begin{equation}\n",
    "h[i] := \\mathbb{P}[-n\\tfrac{x}{2} + i\\tfrac{x}{2} + \\Delta \\notin [-n\\tfrac{x}{2}, m\\tfrac{x}{2}]], \\quad i \\in \\{0, 1, \\ldots, n+m\\}.\n",
    "\\end{equation}"
   ]
  },
  {
   "cell_type": "code",
   "execution_count": 161,
   "id": "04a7f7be-e781-4fe4-aae0-eec9f713cc18",
   "metadata": {},
   "outputs": [
    {
     "data": {
      "text/plain": [
       "(array([0.5  , 0.495, 0.005, 0.005, 0.495, 0.5  ]),\n",
       " array([0.5, 0.5, 0.5, 0.5]),\n",
       " array([0.5  , 0.495, 0.01 , 0.495, 0.5  ]))"
      ]
     },
     "execution_count": 161,
     "metadata": {},
     "output_type": "execute_result"
    }
   ],
   "source": [
    "# Create P vector\n",
    "P = np.array([1/4 - p/2, p, 1/4 - p/2, 0, 1/4 - p/2, p, 1/4 - p/2])\n",
    "\n",
    "\n",
    "# Create h vector depending on n and m\n",
    "def create_h_vector(n, m):\n",
    "    N = n + m \n",
    "    h = np.zeros(N + 1)  # Initialize h with zeros of length N\n",
    "\n",
    "    # Populate h with the appropriate probabilities\n",
    "    for i in range(N + 1):\n",
    "        if i == 0:\n",
    "            if N - i == 1:\n",
    "                h[i] = P[0] + P[1] + P[2] + P[5] + P[6]\n",
    "            elif N - i == 2:\n",
    "                h[i] = P[0] + P[1] + P[2] + P[6]\n",
    "            elif N - i >= 3:\n",
    "                h[i] = P[0] + P[1] + P[2] \n",
    "        elif i == 1:\n",
    "            if N - i == 0:\n",
    "                h[i] = P[0] + P[1] + P[4] + P[5] + P[6]\n",
    "            elif N - i == 1:\n",
    "                h[i] = P[0] + P[1] + P[5] + P[6]\n",
    "            elif N - i == 2:\n",
    "                h[i] = P[0] + P[1] + P[6]\n",
    "            elif N - i >= 3:\n",
    "                h[i] = P[0] + P[1] \n",
    "        elif i == 2:\n",
    "            if N - i == 0:\n",
    "                h[i] = P[0] + P[4] + P[5] + P[6]\n",
    "            elif N - i == 1:\n",
    "                h[i] = P[0] + P[5] + P[6]\n",
    "            elif N - i == 2:\n",
    "                h[i] = P[0] + P[6]\n",
    "            elif N - i >= 3:\n",
    "                h[i] = P[0]\n",
    "        elif i >= 3:\n",
    "            if N - i == 0:\n",
    "                h[i] = P[4] + P[5] + P[6]\n",
    "            elif N - i == 1:\n",
    "                h[i] = P[5] + P[6]\n",
    "            elif N - i == 2:\n",
    "                h[i] = P[6]\n",
    "            elif N - i >= 3:\n",
    "                h[i] = 0\n",
    "\n",
    "    return h\n",
    "\n",
    "# Examples\n",
    "create_h_vector(0, 5), create_h_vector(3, 0), create_h_vector(2, 2)"
   ]
  },
  {
   "cell_type": "markdown",
   "id": "4646c701-3cf2-4c7a-bf94-9660a6023701",
   "metadata": {},
   "source": [
    "Refining Algorithm 1 from our paper, in order to find the total cost given channel deposits $l_A = n\\tfrac{x}{2}$ and $l_B = m\\tfrac{x}{2}$, we need to find the fixed point of the function $F:\\mathbb{R}^{n+m+1} \\to \\mathbb{R}^{n+m+1}$ defined by\n",
    "\n",
    "\\begin{equation}\n",
    "F(v)[i] = \\alpha \\left[ \\min(C+v[i], C+D+v[n]) \\cdot h[i] + \\sum_{j = \\max(-i,-3)}^{\\min(3, n+m-i)} \\min(C+v[i], D+v[n], v[i+j]) \\cdot P[3+j] \\right], \\quad i \\in \\{0, 1, \\ldots, n+m \\}.\n",
    "\\end{equation}\n",
    "\n",
    "The code below does exactly this."
   ]
  },
  {
   "cell_type": "code",
   "execution_count": 142,
   "id": "40709c60-048f-4f1c-9f84-cdcc28e2b8fe",
   "metadata": {},
   "outputs": [],
   "source": [
    "# Find the fixed point of the function F\n",
    "def F(v, n, m):\n",
    "    N = n + m\n",
    "    h = create_h_vector(n, m)\n",
    "    \n",
    "    Fv = np.zeros(N+1)\n",
    "    base_index = n\n",
    "\n",
    "    # Compute the vector F(v)\n",
    "    for i in range(N+1):\n",
    "        # from position -nx/2 + ix/2, the next state could be -nx/2 + (i+j)x/2 for j between j_min and j_max\n",
    "        j_min = max(-i, -3)\n",
    "        j_max = min(3, N - i)\n",
    "        \n",
    "        Fv[i] = alpha * (\n",
    "            min(C + v[i], C + D + v[base_index]) * h[i] +\n",
    "            sum(min(C + v[i], D + v[base_index], v[i + j]) * P[3 + j] for j in range(j_min, j_max + 1))\n",
    "        )\n",
    "    \n",
    "    return Fv\n",
    "\n",
    "# The unique fixed point of F is the unique root of the function G(v)=F(v)-v\n",
    "def G(v, n, m):\n",
    "    Fv = F(v, n, m)\n",
    "    Gv = Fv - v\n",
    "    return Gv\n",
    "\n",
    "\n",
    "# This finds the unique root of the function G, and hence the unique fixed point of F\n",
    "def T(n, m, method='hybr'):\n",
    "    \n",
    "    # Set up the initial guess vector U-shaped\n",
    "    N = n + m\n",
    "    base_index = n\n",
    "    initial_guess_vector = np.concatenate((base_index - np.arange(base_index), np.arange(N + 1 - base_index))) \n",
    "    \n",
    "    # Use the root function from scipy.optimize with flexibility in the method \n",
    "    Fixed_Point = root(G, initial_guess_vector, args=(n, m), method=method)\n",
    "        \n",
    "    return Fixed_Point.x\n",
    "\n",
    "# The total cost of the channel [-nx/2, mx/2]\n",
    "def V(n,m):\n",
    "    base_index = n\n",
    "    return n*x/2 + m*x/2 + T(n,m)[base_index]"
   ]
  },
  {
   "cell_type": "markdown",
   "id": "7f711b41-1daa-47de-9057-09e7b4ac5799",
   "metadata": {},
   "source": [
    "Since the resulting cost for not opening a channel is $\\tfrac{\\alpha C}{1-\\alpha} = 17.1$, we only need to consider $n$ and $m$ such that $n\\tfrac{x}{2} + m\\tfrac{x}{2} \\leq 17.1$. As $x = 3.2$, this is implied by $n + m \\leq 11$. So we optimize over this set."
   ]
  },
  {
   "cell_type": "code",
   "execution_count": 164,
   "id": "c6d64c5e-5061-44fb-b4a4-5278a333870c",
   "metadata": {},
   "outputs": [
    {
     "data": {
      "text/plain": [
       "(2, 2)"
      ]
     },
     "execution_count": 164,
     "metadata": {},
     "output_type": "execute_result"
    }
   ],
   "source": [
    "min_value = float('inf')\n",
    "optimal_pair = (None, None)\n",
    "\n",
    "# Find the optimal channel deposits\n",
    "for n in range(1, 12):  # n is a natural number, so start at 1\n",
    "        for m in range(1, 12):  # m is a natural number, so start at 1\n",
    "            if n + m <= 11:  # Ensure n + m <= 11\n",
    "                # Calculate the value of nx/2 + mx/2 + T(n, m)\n",
    "                value = V(n,m)\n",
    "                # Check if this is the minimal value found so far\n",
    "                if value < min_value:\n",
    "                    min_value = value\n",
    "                    optimal_pair = (n, m)\n",
    "\n",
    "optimal_pair"
   ]
  },
  {
   "cell_type": "markdown",
   "id": "bd168e0d-85f4-47f5-a0e2-d257aecb89c6",
   "metadata": {},
   "source": [
    "Thus, the optimal channel deposits are $l_A^* = 2 \\tfrac{x}{2}$ and $l_B^* = 2 \\tfrac{x}{2}$.\n",
    "\n",
    "Finally, we want to compute the optimal policy. We do this by using Theorem 3.2 and the plot below."
   ]
  },
  {
   "cell_type": "code",
   "execution_count": 146,
   "id": "4e134e3d-d3a2-427a-8bc8-cde7b9f9eb4b",
   "metadata": {},
   "outputs": [
    {
     "data": {
      "image/png": "[encoded data removed]",
      "text/plain": [
       "<Figure size 640x480 with 1 Axes>"
      ]
     },
     "metadata": {},
     "output_type": "display_data"
    }
   ],
   "source": [
    "optimal_transaction_cost_vector = T(2, 2)\n",
    "\n",
    "# Define x-axis values corresponding to elements of optimal_transaction_cost_vector\n",
    "x_values = np.array([-3.2, -1.6, 0, 1.6, 3.2])\n",
    "\n",
    "# Calculate C + optimal_transaction_cost_vector (element-wise addition)\n",
    "C_plus_optimal_transaction_cost_vector = C + optimal_transaction_cost_vector\n",
    "\n",
    "# Plot optimal_transaction_cost_vector, C+optimal_transaction_cost_vector, and D+optimal_transaction_cost_vector[2]\n",
    "plt.plot(x_values, optimal_transaction_cost_vector, marker='o', color='blue')\n",
    "plt.plot(x_values, C_plus_optimal_transaction_cost_vector, marker='o', color='orange')\n",
    "plt.axhline(y=D + optimal_transaction_cost_vector[2], color='green', linestyle='--')\n",
    "plt.show()"
   ]
  },
  {
   "cell_type": "markdown",
   "id": "42ed76f4-4f9c-4027-9f8d-fda1eb0803a5",
   "metadata": {},
   "source": [
    "When the channel is opened the initial state is $0$:\n",
    "\n",
    "- If a payment of $\\pm \\tfrac{x}{2}$ or $\\pm \\tfrac{3x}{2}$ is due, then the optimal action is $(Cn, W)$.\n",
    "- If a payment of $\\pm x$ is due, then the optimal action is $(Cl, W)$.\n",
    "\n",
    "At position $x$:\n",
    "\n",
    "- If a payment of $\\tfrac{x}{2}$ or $x$ or $\\tfrac{3x}{2}$ is due, then the optimal action is $(Cn, W)$.\n",
    "- If a payment of $-x$ is due, then the optimal action is $(Cl,W)$.\n",
    "- If a payment of $-\\tfrac{3x}{2}$ or $-\\tfrac{x}{2}$ is due, then the optimal action is $(Cl,R)$.\n",
    "\n",
    "At position $-x$:\n",
    "\n",
    "- If a payment of $-\\tfrac{x}{2}$ or $-x$ or $-\\tfrac{3x}{2}$ is due, then the optimal action is $(Cn, W)$.\n",
    "- If a payment of $x$ is due, then the optimal action is $(Cl,W)$.\n",
    "- If a payment of $\\tfrac{3x}{2}$ or $\\tfrac{x}{2}$ is due, then the optimal action is $(Cl,R)$."
   ]
  }
 ],
 "metadata": {
  "kernelspec": {
   "display_name": "Python 3 (ipykernel)",
   "language": "python",
   "name": "python3"
  },
  "language_info": {
   "codemirror_mode": {
    "name": "ipython",
    "version": 3
   },
   "file_extension": ".py",
   "mimetype": "text/x-python",
   "name": "python",
   "nbconvert_exporter": "python",
   "pygments_lexer": "ipython3",
   "version": "3.12.4"
  }
 },
 "nbformat": 4,
 "nbformat_minor": 5
}
